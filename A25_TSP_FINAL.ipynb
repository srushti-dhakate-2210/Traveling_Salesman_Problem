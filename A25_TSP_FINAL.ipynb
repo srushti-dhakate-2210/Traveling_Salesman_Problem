{
  "cells": [
    {
      "cell_type": "code",
      "execution_count": 8,
      "metadata": {
        "id": "97--iSE1GVjT"
      },
      "outputs": [],
      "source": [
        "import numpy as np\n",
        "import matplotlib.pyplot as plt\n",
        "seed = 42\n",
        "np.random.seed(seed=seed)\n",
        "%matplotlib inline"
      ]
    },
    {
      "cell_type": "code",
      "execution_count": 9,
      "metadata": {
        "id": "yo-MVDx3Gi3V"
      },
      "outputs": [],
      "source": [
        "def gen_param(num):\n",
        "    path = list(range(num)) + [0]\n",
        "    X, Y = np.random.random([2, num])\n",
        "    XY = X + Y * 1j\n",
        "    S = set(list(range(num)))\n",
        "    return num, path, X, Y, XY, S"
      ]
    },
    {
      "cell_type": "code",
      "execution_count": 10,
      "metadata": {
        "id": "eH0cp0WmGpYN"
      },
      "outputs": [],
      "source": [
        "def plot_path(path, size=6):\n",
        "    plt.figure(figsize=(size, size))\n",
        "    cmap = plt.get_cmap(\"tab10\")\n",
        "    plt.axis('equal')\n",
        "    plt.plot(X[path], Y[path], alpha=0.0)\n",
        "    plt.scatter(X[0], Y[0], s=80, c='r', marker='o')\n",
        "    \n",
        "    for i in range(len(path)-1):\n",
        "        plt.arrow(X[path[i]], Y[path[i]], \n",
        "                  X[path[i+1]]-X[path[i]], Y[path[i+1]]-Y[path[i]], \n",
        "                  head_width=0.02, head_length=0.02, length_includes_head=True, \n",
        "                  fc=cmap(0), ec=cmap(0))\n",
        "    \n",
        "    for i in range(num):\n",
        "        plt.text(X[i], Y[i]+0.01, s=i, fontsize=10, color='gray')"
      ]
    },
    {
      "cell_type": "code",
      "execution_count": 11,
      "metadata": {
        "id": "lJqBBix-GrZs"
      },
      "outputs": [],
      "source": [
        "def dist_mx(num):\n",
        "    mx = []\n",
        "    for i in range(num):\n",
        "        mx.append([])\n",
        "        for j in range(num):\n",
        "            mx[i].append(abs(XY[i] - XY[j]))\n",
        "    return mx"
      ]
    },
    {
      "cell_type": "code",
      "execution_count": 12,
      "metadata": {
        "id": "njlnSV_wHJJJ"
      },
      "outputs": [],
      "source": [
        "num, path, X, Y, XY, S = gen_param(4)\n",
        "\n",
        "dist=([0,120,634,164],[148,0,32,12],[100,670,0,92],[140,254,694,0])\n",
        "time=([4,2,4,1],[6,2,8,2],[10,6,3,5],[12,15,6,7])\n",
        "avg_dist_time=([0,126,134,257],[615,0,132,143],[130,116,0,679],[112,125,160,0])"
      ]
    },
    {
      "cell_type": "code",
      "execution_count": 13,
      "metadata": {
        "id": "IwfoAXEdGuRk"
      },
      "outputs": [],
      "source": [
        "dynamicapproach = {}\n",
        "\n",
        "def TSP_DP(a, S, b):\n",
        "    if len(S) == 0:\n",
        "        dynamicapproach[(a, tuple(S - {a}), b)] = dist[a][b]\n",
        "        return dist[a][b]\n",
        "\n",
        "    d_min = float('inf')\n",
        "    for s in S - {a}:\n",
        "        if (s, tuple(S - {a, s}), b) not in dynamicapproach:\n",
        "            dynamicapproach[(s, tuple(S - {a, s}), b)] = TSP_DP(s, S - {a, s}, b)\n",
        "        d = dist[a][s] + dynamicapproach[(s, tuple(S - {a, s}), b)]  \n",
        "        if d < d_min:\n",
        "            d_min = d\n",
        "\n",
        "    return d_min\n",
        "\n",
        "# print('Total Distance:', TSP_DP(0, S, 0))"
      ]
    },
    {
      "cell_type": "code",
      "execution_count": 14,
      "metadata": {
        "id": "y1i2u3nNTpb0"
      },
      "outputs": [],
      "source": [
        "dynamicapproach = {}\n",
        "\n",
        "def TSP_DP_TIME(a, S, b):\n",
        "    if len(S) == 0:\n",
        "        dynamicapproach[(a, tuple(S - {a}), b)] = time[a][b]\n",
        "        return time[a][b]\n",
        "\n",
        "    d_min = float('inf')\n",
        "    t_min = float('inf')\n",
        "    \n",
        "    for s in S - {a}:\n",
        "        if (s, tuple(S - {a, s}), b) not in dynamicapproach:\n",
        "            dynamicapproach[(s, tuple(S - {a, s}), b)] = TSP_DP_TIME(s, S - {a, s}, b)\n",
        "        d = time[a][s] + dynamicapproach[(s, tuple(S - {a, s}), b)]  \n",
        "        if d < d_min:\n",
        "            d_min = d\n",
        "\n",
        "    return d_min"
      ]
    },
    {
      "cell_type": "code",
      "execution_count": 15,
      "metadata": {
        "id": "XD0G7_xqaAHX"
      },
      "outputs": [],
      "source": [
        "dynamicapproach = {}\n",
        "\n",
        "def TSP_DP_TIME_DIST(a, S, b):\n",
        "    if len(S) == 0:\n",
        "        dynamicapproach[(a, tuple(S - {a}), b)] = avg_dist_time[a][b]\n",
        "        return avg_dist_time[a][b]\n",
        "\n",
        "    d_min = float('inf')\n",
        "    t_min = float('inf')\n",
        "    \n",
        "    for s in S - {a}:\n",
        "        if (s, tuple(S - {a, s}), b) not in dynamicapproach:\n",
        "            dynamicapproach[(s, tuple(S - {a, s}), b)] = TSP_DP_TIME(s, S - {a, s}, b)\n",
        "        d = avg_dist_time[a][s] + dynamicapproach[(s, tuple(S - {a, s}), b)]  \n",
        "        if d < d_min:\n",
        "            d_min = d\n",
        "\n",
        "    return d_min"
      ]
    },
    {
      "cell_type": "markdown",
      "metadata": {
        "id": "plheYwOfTHx6"
      },
      "source": [
        "# Case 1 : Shortest Distance"
      ]
    },
    {
      "cell_type": "code",
      "execution_count": 17,
      "metadata": {
        "colab": {
          "base_uri": "https://localhost:8080/",
          "height": 480
        },
        "id": "BTiDRWz5G9YE",
        "outputId": "c7ac74bd-b6e6-4942-ed3e-995e5147a3bd"
      },
      "outputs": [
        {
          "output_type": "stream",
          "name": "stdout",
          "text": [
            "Total Distance: 384\n",
            "\n",
            "\n",
            "Path: [0, 1, 2, 3, 0]\n",
            "\n",
            "\n"
          ]
        },
        {
          "output_type": "display_data",
          "data": {
            "text/plain": [
              "<Figure size 432x432 with 1 Axes>"
            ],
            "image/png": "[encoded data removed]"
          },
          "metadata": {
            "needs_background": "light"
          }
        }
      ],
      "source": [
        "P = [0]  # starting from to \"0\"\n",
        "\n",
        "for i in range(num - 2, -1, -1):\n",
        "    d_min = np.inf\n",
        "    p_min = None\n",
        "    for m in dynamicapproach:\n",
        "        if len(m[1]) == i and  set(P) | {m[0]} | set(m[1]) == S:\n",
        "            d = dist[P[-1]][m[0]] + dynamicapproach[m]\n",
        "            if d < d_min:\n",
        "                d_min = d\n",
        "                p_min = m[0]\n",
        "    P.append(p_min)\n",
        "\n",
        "\n",
        "print('Total Distance:', TSP_DP(0, S, 0))\n",
        "print(\"\\n\")\n",
        "print('Path:', P + [0])\n",
        "print(\"\\n\")\n",
        "\n",
        "plot_path(P + [0])"
      ]
    },
    {
      "cell_type": "markdown",
      "metadata": {
        "id": "15lJsKsmUnD6"
      },
      "source": [
        "# Case 2 : Shortest Time"
      ]
    },
    {
      "cell_type": "code",
      "execution_count": 18,
      "metadata": {
        "colab": {
          "base_uri": "https://localhost:8080/",
          "height": 480
        },
        "id": "w9hq9bTSUqeY",
        "outputId": "3ce761fd-9943-4b43-d69a-50f1f5434f54"
      },
      "outputs": [
        {
          "output_type": "stream",
          "name": "stdout",
          "text": [
            "Total Time: 266\n",
            "\n",
            "\n",
            "Path: [0, 1, 2, 3, 0]\n",
            "\n",
            "\n"
          ]
        },
        {
          "output_type": "display_data",
          "data": {
            "text/plain": [
              "<Figure size 432x432 with 1 Axes>"
            ],
            "image/png": "[encoded data removed]"
          },
          "metadata": {
            "needs_background": "light"
          }
        }
      ],
      "source": [
        "P = [0]  # starting from to \"0\"\n",
        "\n",
        "for i in range(num - 2, -1, -1):\n",
        "    d_min = np.inf\n",
        "    p_min = None\n",
        "    for m in dynamicapproach:\n",
        "        if len(m[1]) == i and  set(P) | {m[0]} | set(m[1]) == S:\n",
        "            d = time[P[-1]][m[0]] + dynamicapproach[m]\n",
        "            if d < d_min:\n",
        "                d_min = d\n",
        "                p_min = m[0]\n",
        "    P.append(p_min)\n",
        "\n",
        "\n",
        "print('Total Time:', TSP_DP_TIME(0, S, 0))\n",
        "print(\"\\n\")\n",
        "print('Path:', P + [0])\n",
        "print(\"\\n\")\n",
        "\n",
        "plot_path(P + [0])"
      ]
    },
    {
      "cell_type": "markdown",
      "metadata": {
        "id": "GUtabBGvUrIi"
      },
      "source": [
        "# Case 3 : Average Distance with Average Time"
      ]
    },
    {
      "cell_type": "code",
      "execution_count": 20,
      "metadata": {
        "colab": {
          "base_uri": "https://localhost:8080/",
          "height": 480
        },
        "id": "oUWq8-FOUv-I",
        "outputId": "ec959323-a919-423c-dfcb-b8c18c3cf1fd"
      },
      "outputs": [
        {
          "output_type": "stream",
          "name": "stdout",
          "text": [
            "Average Path Value: 390\n",
            "\n",
            "\n",
            "Path: [0, 1, 2, 3, 0]\n",
            "\n",
            "\n"
          ]
        },
        {
          "output_type": "display_data",
          "data": {
            "text/plain": [
              "<Figure size 432x432 with 1 Axes>"
            ],
            "image/png": "[encoded data removed]"
          },
          "metadata": {
            "needs_background": "light"
          }
        }
      ],
      "source": [
        "P = [0]  # starting from to \"0\"\n",
        "\n",
        "for i in range(num - 2, -1, -1):\n",
        "    d_min = np.inf\n",
        "    p_min = None\n",
        "    for m in dynamicapproach:\n",
        "        if len(m[1]) == i and  set(P) | {m[0]} | set(m[1]) == S:\n",
        "            d = time[P[-1]][m[0]] + dynamicapproach[m]\n",
        "            if d < d_min:\n",
        "                d_min = d\n",
        "                p_min = m[0]\n",
        "    P.append(p_min)\n",
        "\n",
        "\n",
        "print('Average Path Value:', TSP_DP_TIME_DIST(0, S, 0))\n",
        "print(\"\\n\")\n",
        "print('Path:', P + [0])\n",
        "print(\"\\n\")\n",
        "\n",
        "plot_path(P + [0])"
      ]
    },
    {
      "cell_type": "code",
      "execution_count": null,
      "metadata": {
        "id": "Cm-KdNq2aOEn"
      },
      "outputs": [],
      "source": []
    }
  ],
  "metadata": {
    "colab": {
      "provenance": []
    },
    "kernelspec": {
      "display_name": "Python 3",
      "name": "python3"
    },
    "language_info": {
      "name": "python"
    }
  },
  "nbformat": 4,
  "nbformat_minor": 0
}