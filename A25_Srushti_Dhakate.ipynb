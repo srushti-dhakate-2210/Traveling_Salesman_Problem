{
  "nbformat": 4,
  "nbformat_minor": 0,
  "metadata": {
    "colab": {
      "provenance": []
    },
    "kernelspec": {
      "name": "python3",
      "display_name": "Python 3"
    },
    "language_info": {
      "name": "python"
    }
  },
  "cells": [
    {
      "cell_type": "code",
      "execution_count": 1,
      "metadata": {
        "id": "MAjH6SKDX6QE"
      },
      "outputs": [],
      "source": [
        "import numpy as np\n",
        "import matplotlib.pyplot as plt\n",
        "seed = 42\n",
        "np.random.seed(seed=seed)\n",
        "%matplotlib inline"
      ]
    },
    {
      "cell_type": "code",
      "source": [
        "def gen_param(num):\n",
        "    path = list(range(num)) + [0]\n",
        "    X, Y = np.random.random([2, num])\n",
        "    XY = X + Y * 1j\n",
        "    S = set(list(range(num)))\n",
        "    return num, path, X, Y, XY, S"
      ],
      "metadata": {
        "id": "ncsWsWncX-tu"
      },
      "execution_count": 2,
      "outputs": []
    },
    {
      "cell_type": "code",
      "source": [
        "def plot_path(path, size=6):\n",
        "    plt.figure(figsize=(size, size))\n",
        "    cmap = plt.get_cmap(\"tab10\")\n",
        "    plt.axis('equal')\n",
        "    plt.plot(X[path], Y[path], alpha=0.0)\n",
        "    plt.scatter(X[0], Y[0], s=80, c='r', marker='o')\n",
        "    \n",
        "    for i in range(len(path)-1):\n",
        "        plt.arrow(X[path[i]], Y[path[i]], \n",
        "                  X[path[i+1]]-X[path[i]], Y[path[i+1]]-Y[path[i]], \n",
        "                  head_width=0.02, head_length=0.02, length_includes_head=True, \n",
        "                  fc=cmap(0), ec=cmap(0))\n",
        "    \n",
        "    for i in range(num):\n",
        "        plt.text(X[i], Y[i]+0.01, s=i, fontsize=10, color='gray')"
      ],
      "metadata": {
        "id": "-Y6cCon8YCDm"
      },
      "execution_count": 3,
      "outputs": []
    },
    {
      "cell_type": "code",
      "source": [
        "def dist_mx(num):\n",
        "    mx = []\n",
        "    for i in range(num):\n",
        "        mx.append([])\n",
        "        for j in range(num):\n",
        "            mx[i].append(abs(XY[i] - XY[j]))\n",
        "    return mx"
      ],
      "metadata": {
        "id": "MUjjqCIIYFp2"
      },
      "execution_count": 4,
      "outputs": []
    },
    {
      "cell_type": "code",
      "source": [
        "num, path, X, Y, XY, S = gen_param(4)\n",
        "\n",
        "# dist=([0,20,4,16],[48,0,32,12],[100,60,0,92],[40,24,64,0])\n",
        "# time=([4,2,4,1],[6,2,8,2],[10,6,3,5],[12,15,6,7])\n",
        "# avg_dist_time=([0,26,14,27],[15,0,32,14],[10,16,0,9],[12,15,16,0])\n",
        "\n",
        "dist=([0,1,999,999],[999,0,1,999],[999,999,0,1],[1,999,999,0])\n",
        "time=([0,999,999,2],[2,0,999,999],[999,2,0,999],[999,999,2,0])\n",
        "avg_dist_time=([0,3,999,999],[999,0,3,999],[999,999,0,3],[3,999,999,0])"
      ],
      "metadata": {
        "id": "pN0DzpWiYIYl"
      },
      "execution_count": 5,
      "outputs": []
    },
    {
      "cell_type": "code",
      "source": [
        "memo = {}\n",
        "\n",
        "def TSP_DP(a, S, b):\n",
        "    if len(S) == 0:\n",
        "        memo[(a, tuple(S - {a}), b)] = dist[a][b]\n",
        "        return dist[a][b]\n",
        "\n",
        "    d_min = float('inf')\n",
        "    for s in S - {a}:\n",
        "        if (s, tuple(S - {a, s}), b) not in memo:\n",
        "            memo[(s, tuple(S - {a, s}), b)] = TSP_DP(s, S - {a, s}, b)\n",
        "        d = dist[a][s] + memo[(s, tuple(S - {a, s}), b)]  \n",
        "        if d < d_min:\n",
        "            d_min = d\n",
        "\n",
        "    return d_min\n",
        "\n",
        "print('Total Distance:', TSP_DP(0, S, 0))"
      ],
      "metadata": {
        "colab": {
          "base_uri": "https://localhost:8080/"
        },
        "id": "3ue2SiENYLN5",
        "outputId": "c7529a89-80cf-4305-9ff8-6e82986e52aa"
      },
      "execution_count": 6,
      "outputs": [
        {
          "output_type": "stream",
          "name": "stdout",
          "text": [
            "Total Distance: 4\n"
          ]
        }
      ]
    },
    {
      "cell_type": "code",
      "source": [
        "memo1 = {}\n",
        "\n",
        "def TSP_DP_TIME(a, S, b):\n",
        "    if len(S) == 0:\n",
        "        memo1[(a, tuple(S - {a}), b)] = time[a][b]\n",
        "        return time[a][b]\n",
        "\n",
        "    d_min = float('inf')\n",
        "    \n",
        "    for s in S - {a}:\n",
        "        if (s, tuple(S - {a, s}), b) not in memo1:\n",
        "            memo1[(s, tuple(S - {a, s}), b)] = TSP_DP_TIME(s, S - {a, s}, b)\n",
        "        d = time[a][s] + memo1[(s, tuple(S - {a, s}), b)]  \n",
        "        if d < d_min:\n",
        "            d_min = d\n",
        "\n",
        "    return d_min\n",
        "\n",
        "print('Total Time:', TSP_DP_TIME(0, S, 0))"
      ],
      "metadata": {
        "colab": {
          "base_uri": "https://localhost:8080/"
        },
        "id": "UH7m9JB_YOFI",
        "outputId": "1b6234a7-d882-412a-e6a2-7f3e285f29c7"
      },
      "execution_count": 7,
      "outputs": [
        {
          "output_type": "stream",
          "name": "stdout",
          "text": [
            "Total Time: 8\n"
          ]
        }
      ]
    },
    {
      "cell_type": "code",
      "source": [
        "memo2 = {}\n",
        "\n",
        "def TSP_DP_TIME_DIST(a, S, b):\n",
        "    if len(S) == 0:\n",
        "        memo2[(a, tuple(S - {a}), b)] = avg_dist_time[a][b]\n",
        "        return avg_dist_time[a][b]\n",
        "\n",
        "    d_min = float('inf')\n",
        "    \n",
        "    for s in S - {a}:\n",
        "        if (s, tuple(S - {a, s}), b) not in memo2:\n",
        "            memo2[(s, tuple(S - {a, s}), b)] = TSP_DP_TIME_DIST(s, S - {a, s}, b)\n",
        "        d = avg_dist_time[a][s] + memo2[(s, tuple(S - {a, s}), b)]  \n",
        "        if d < d_min:\n",
        "            d_min = d\n",
        "\n",
        "    return d_min\n",
        "\n",
        "print('Total AVG:', TSP_DP_TIME_DIST(0, S, 0))"
      ],
      "metadata": {
        "colab": {
          "base_uri": "https://localhost:8080/"
        },
        "id": "BAERO8lEYRhM",
        "outputId": "d9efd0b0-e918-48f3-8adb-c1e261337e01"
      },
      "execution_count": 8,
      "outputs": [
        {
          "output_type": "stream",
          "name": "stdout",
          "text": [
            "Total AVG: 12\n"
          ]
        }
      ]
    },
    {
      "cell_type": "markdown",
      "source": [
        "# Case 1 : Shortest Distance"
      ],
      "metadata": {
        "id": "Y2rISU9GYUev"
      }
    },
    {
      "cell_type": "code",
      "source": [
        "P = [0]  # starting from to \"0\"\n",
        "\n",
        "for i in range(num - 2, -1, -1):\n",
        "    d_min = np.inf\n",
        "    p_min = None\n",
        "    for m in memo:\n",
        "        if len(m[1]) == i and  set(P) | {m[0]} | set(m[1]) == S:\n",
        "            d = dist[P[-1]][m[0]] + memo[m]\n",
        "            if d < d_min:\n",
        "                d_min = d\n",
        "                p_min = m[0]\n",
        "    P.append(p_min)\n",
        "\n",
        "\n",
        "print('Total Distance:', TSP_DP(0, S, 0))\n",
        "print(\"\\n\")\n",
        "print('Path:', P + [0])\n",
        "print(\"\\n\")\n",
        "\n",
        "plot_path(P + [0])"
      ],
      "metadata": {
        "colab": {
          "base_uri": "https://localhost:8080/",
          "height": 480
        },
        "id": "3fxoqR31YX5l",
        "outputId": "486f2c83-3a7c-4b5e-8607-e56eb3b48a0b"
      },
      "execution_count": 9,
      "outputs": [
        {
          "output_type": "stream",
          "name": "stdout",
          "text": [
            "Total Distance: 4\n",
            "\n",
            "\n",
            "Path: [0, 1, 2, 3, 0]\n",
            "\n",
            "\n"
          ]
        },
        {
          "output_type": "display_data",
          "data": {
            "text/plain": [
              "<Figure size 432x432 with 1 Axes>"
            ],
            "image/png": "[encoded data removed]"
          },
          "metadata": {
            "needs_background": "light"
          }
        }
      ]
    },
    {
      "cell_type": "markdown",
      "source": [
        "# Case 2 : Shortest Time"
      ],
      "metadata": {
        "id": "GRuycG05YiDx"
      }
    },
    {
      "cell_type": "code",
      "source": [
        "P = [0]  # starting from to \"0\"\n",
        "\n",
        "for i in range(num - 2, -1, -1):\n",
        "    d_min = np.inf\n",
        "    p_min = None\n",
        "    for m in memo1:\n",
        "        if len(m[1]) == i and  set(P) | {m[0]} | set(m[1]) == S:\n",
        "            d = time[P[-1]][m[0]] + memo1[m]\n",
        "            if d < d_min:\n",
        "                d_min = d\n",
        "                p_min = m[0]\n",
        "    P.append(p_min)\n",
        "\n",
        "print('Total Time:', TSP_DP_TIME(0, S, 0))\n",
        "print(\"\\n\")\n",
        "print('Path:', P + [0])\n",
        "print(\"\\n\")\n",
        "\n",
        "plot_path(P + [0])"
      ],
      "metadata": {
        "colab": {
          "base_uri": "https://localhost:8080/",
          "height": 480
        },
        "id": "LDngjhDXYfnl",
        "outputId": "82dd1b31-455c-4e7c-aaa4-88cd19ff0fb1"
      },
      "execution_count": 10,
      "outputs": [
        {
          "output_type": "stream",
          "name": "stdout",
          "text": [
            "Total Time: 8\n",
            "\n",
            "\n",
            "Path: [0, 3, 2, 1, 0]\n",
            "\n",
            "\n"
          ]
        },
        {
          "output_type": "display_data",
          "data": {
            "text/plain": [
              "<Figure size 432x432 with 1 Axes>"
            ],
            "image/png": "[encoded data removed]"
          },
          "metadata": {
            "needs_background": "light"
          }
        }
      ]
    },
    {
      "cell_type": "markdown",
      "source": [
        "# Case 3 : Average Distance with Average Time"
      ],
      "metadata": {
        "id": "dpw-WpqiYmbn"
      }
    },
    {
      "cell_type": "code",
      "source": [
        "P = [0]  # starting from to \"0\"\n",
        "\n",
        "for i in range(num - 2, -1, -1):\n",
        "    d_min = np.inf\n",
        "    p_min = None\n",
        "    for m in memo2:\n",
        "        if len(m[1]) == i and  set(P) | {m[0]} | set(m[1]) == S:\n",
        "            d = avg_dist_time[P[-1]][m[0]] + memo2[m]\n",
        "            if d < d_min:\n",
        "                d_min = d\n",
        "                p_min = m[0]\n",
        "    P.append(p_min)\n",
        "    # print(p_min)\n",
        "\n",
        "\n",
        "print('Average Path Value:', TSP_DP_TIME_DIST(0, S, 0))\n",
        "print(\"\\n\")\n",
        "print('Path:', P + [0])\n",
        "print(\"\\n\")\n",
        "\n",
        "plot_path(P + [0])"
      ],
      "metadata": {
        "colab": {
          "base_uri": "https://localhost:8080/",
          "height": 480
        },
        "id": "6Bdtd5NJYnd-",
        "outputId": "9537d407-77d7-4986-a96d-206c49840c0e"
      },
      "execution_count": 11,
      "outputs": [
        {
          "output_type": "stream",
          "name": "stdout",
          "text": [
            "Average Path Value: 12\n",
            "\n",
            "\n",
            "Path: [0, 1, 2, 3, 0]\n",
            "\n",
            "\n"
          ]
        },
        {
          "output_type": "display_data",
          "data": {
            "text/plain": [
              "<Figure size 432x432 with 1 Axes>"
            ],
            "image/png": "[encoded data removed]"
          },
          "metadata": {
            "needs_background": "light"
          }
        }
      ]
    }
  ]
}